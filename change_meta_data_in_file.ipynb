{
 "cells": [
  {
   "cell_type": "code",
   "execution_count": 3,
   "metadata": {},
   "outputs": [
    {
     "name": "stdout",
     "output_type": "stream",
     "text": [
      "change meta data in file ./data/t2i-10M/query.10k.fbin to 10000\n"
     ]
    }
   ],
   "source": [
    "# ./data/t2i-10M/query.train.10M.fbin overwrite the first 4 bytes by 10000000 as uint32\n",
    "\n",
    "import os\n",
    "import sys\n",
    "import numpy\n",
    "\n",
    "def fit_meta_data_in_file(data_file, data_size):\n",
    "    with open(data_file, 'r+b') as f:\n",
    "        f.seek(0)\n",
    "        f.write(numpy.array([data_size], dtype=numpy.uint32).tobytes())\n",
    "        \n",
    "if __name__ == '__main__':\n",
    "    data_file = \"./data/t2i-10M/query.10k.fbin\"\n",
    "    data_size = 10000\n",
    "    fit_meta_data_in_file(data_file, data_size)\n",
    "    print(f\"change meta data in file {data_file} to {data_size}\")\n"
   ]
  },
  {
   "cell_type": "code",
   "execution_count": null,
   "metadata": {},
   "outputs": [],
   "source": [
    "import numpy as np\n",
    "\n",
    "imgs_10M = np.array([])\n",
    "text_10M = np.array([])\n",
    "dim = 512\n",
    "for i in [0, 1, 2, 3, 4, 5, 6, 7, 9, 10]:\n",
    "    # append np arrays \n",
    "    img_name = f'./data/laion-10M/img_emb_{i}.npy'\n",
    "    one_img = np.load(img_name)\n",
    "    # print(img_name)\n",
    "    # convert to float32\n",
    "    one_img = one_img.astype(np.float32) \n",
    "    dim = one_img.shape[1]\n",
    "    imgs_10M = np.append(imgs_10M, one_img).astype(np.float32)\n",
    "    text_name = f'./data/laion-10M/text_emb_{i}.npy'\n",
    "    one_text = np.load(text_name)\n",
    "    one_text = one_text.astype(np.float32)\n",
    "    text_10M = np.append(text_10M, one_text).astype(np.float32)\n",
    "    # print(one_text.shape)\n",
    "\n",
    "imgs_10M = imgs_10M.reshape(-1, dim)\n",
    "text_10M = text_10M.reshape(-1, dim)\n",
    "# print(text_10M.shape)\n",
    "\n",
    "f_img = open('./data/laion-10M/base.10M.fbin', 'wb')\n",
    "f_txt = open('./data/laion-10M/query.train.10M.fbin', 'wb')\n",
    "\n",
    "# save imgs_10M to f, write num points and dimension at first\n",
    "npts, dim = imgs_10M.shape\n",
    "f_img.write(np.array([npts, dim]).astype(np.uint32).tobytes())\n",
    "imgs_10M.tofile(f_img)\n",
    "f_img.close()\n",
    "\n",
    "\n",
    "# save text_10M to f, write num points and dimension at first\n",
    "npts, dim = text_10M.shape\n",
    "f_txt.write(np.array([npts, dim]).astype(np.uint32).tobytes())\n",
    "text_10M.tofile(f_txt)\n",
    "f_txt.close()\n",
    "\n"
   ]
  }
 ],
 "metadata": {
  "kernelspec": {
   "display_name": "base",
   "language": "python",
   "name": "python3"
  },
  "language_info": {
   "codemirror_mode": {
    "name": "ipython",
    "version": 3
   },
   "file_extension": ".py",
   "mimetype": "text/x-python",
   "name": "python",
   "nbconvert_exporter": "python",
   "pygments_lexer": "ipython3",
   "version": "3.10.13"
  }
 },
 "nbformat": 4,
 "nbformat_minor": 2
}
